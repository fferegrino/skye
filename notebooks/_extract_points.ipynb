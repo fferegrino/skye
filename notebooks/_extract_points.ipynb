{
 "cells": [
  {
   "cell_type": "code",
   "execution_count": null,
   "metadata": {},
   "outputs": [],
   "source": [
    "import requests\n",
    "import json\n",
    "from slugify import slugify\n",
    "import pandas as pd\n",
    "import datetime as dt\n",
    "from _polyline_decoder import decode_polyline\n",
    "\n",
    "endpoint = \"https://maps.googleapis.com/maps/api/directions/json\"\n",
    "key = \"\""
   ]
  },
  {
   "cell_type": "markdown",
   "metadata": {},
   "source": [
    " - driving\n",
    " - walking"
   ]
  },
  {
   "cell_type": "code",
   "execution_count": null,
   "metadata": {},
   "outputs": [],
   "source": [
    "trips = pd.read_csv(\"_trips.csv\", parse_dates=['date'])\n",
    "trips.head()"
   ]
  },
  {
   "cell_type": "code",
   "execution_count": null,
   "metadata": {},
   "outputs": [],
   "source": [
    "trips.info()"
   ]
  },
  {
   "cell_type": "code",
   "execution_count": null,
   "metadata": {},
   "outputs": [],
   "source": [
    "def make_request(origin, destination, mode):\n",
    "    params = {\n",
    "        'origin': \"%f,%f\" % origin,\n",
    "        'destination': \"%f,%f\" % destination,\n",
    "        'mode':mode,\n",
    "        'key': key\n",
    "    }\n",
    "    res=requests.get(endpoint, params=params)\n",
    "    return json.loads(res.text)\n",
    "\n",
    "def get_polylist(result):\n",
    "    points_ = decode_polyline(result[\"routes\"][0][\"overview_polyline\"][\"points\"])\n",
    "    return [[lat, long] for lat, long in points_]"
   ]
  },
  {
   "cell_type": "code",
   "execution_count": null,
   "metadata": {},
   "outputs": [],
   "source": [
    "def make_request_from_row(row):\n",
    "    result = make_request(origin=(row[\"origin_lat\"],row[\"origin_long\"]),\n",
    "                          destination=(row[\"destination_lat\"],row[\"destination_long\"]), \n",
    "                          mode=row[\"mode\"])\n",
    "    return result\n",
    "\n",
    "trips[\"result\"]=trips.apply(make_request_from_row, axis=1)\n",
    "trips.head()"
   ]
  },
  {
   "cell_type": "code",
   "execution_count": null,
   "metadata": {},
   "outputs": [],
   "source": [
    "trips[\"polyline\"] = trips[\"result\"].apply(get_polylist)\n",
    "trips.head()"
   ]
  },
  {
   "cell_type": "code",
   "execution_count": null,
   "metadata": {},
   "outputs": [],
   "source": [
    "trips[\"id\"] = trips[\"name\"].apply(lambda s: slugify(s, separator='_'))\n",
    "trips.head()"
   ]
  },
  {
   "cell_type": "code",
   "execution_count": null,
   "metadata": {
    "scrolled": false
   },
   "outputs": [],
   "source": [
    "color_mapping = {\n",
    "    'hitchhiking': 'red',\n",
    "    'walking': 'blue',\n",
    "    'bus':'yellow'\n",
    "}\n",
    "\n",
    "def get_info(r):\n",
    "    info = {\n",
    "#        'id': r['id'],\n",
    "        'name': r['name'],\n",
    "        'date': dt.datetime.strftime(r['date'], '%Y-%m-%dT%H:%M:%SZ'),\n",
    "        'description': None if pd.isna(r['description']) else r['description'],\n",
    "        'color': color_mapping[r['our_mode']],\n",
    "        'points': r[\"polyline\"]\n",
    "    }\n",
    "    routes = r['result']['routes']\n",
    "    \n",
    "    if len(routes) > 0:\n",
    "        route = routes[0]\n",
    "        info['bounds'] = route[\"bounds\"]\n",
    "        if len(route[\"legs\"]) > 1:\n",
    "            print(r['name'], \"has more than one leg\")\n",
    "        leg = route[\"legs\"][0]\n",
    "        info[\"origin\"] = leg[\"start_address\"]\n",
    "        info[\"destination\"] = leg[\"end_address\"]\n",
    "        info[\"distance\"] = leg[\"distance\"]\n",
    "    return info\n",
    "\n",
    "trips_expanded = trips.apply(get_info, axis=1)"
   ]
  },
  {
   "cell_type": "code",
   "execution_count": null,
   "metadata": {},
   "outputs": [],
   "source": [
    "routes = dict(zip(trips.id.values,trips_expanded.values))"
   ]
  },
  {
   "cell_type": "code",
   "execution_count": null,
   "metadata": {},
   "outputs": [],
   "source": []
  }
 ],
 "metadata": {
  "kernelspec": {
   "display_name": "Python 3",
   "language": "python",
   "name": "python3"
  },
  "language_info": {
   "codemirror_mode": {
    "name": "ipython",
    "version": 3
   },
   "file_extension": ".py",
   "mimetype": "text/x-python",
   "name": "python",
   "nbconvert_exporter": "python",
   "pygments_lexer": "ipython3",
   "version": "3.6.5"
  }
 },
 "nbformat": 4,
 "nbformat_minor": 2
}
