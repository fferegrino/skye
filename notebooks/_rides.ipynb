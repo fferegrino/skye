{
 "cells": [
  {
   "cell_type": "code",
   "execution_count": null,
   "metadata": {},
   "outputs": [],
   "source": [
    "import re\n",
    "import json\n",
    "from slugify import slugify\n",
    "\n",
    "def read_bulletpoints(file, parse_data=True):\n",
    "    merge_bullets = lambda b_list: '  \\n'.join([ \" - %s\" % l for l in b_list])\n",
    "    lines:list = None\n",
    "    with open(file, \"r\") as r:\n",
    "        lines = r.readlines()\n",
    "\n",
    "    re_spaces = re.compile(\"^\\s+.\")\n",
    "\n",
    "    bullets = { }\n",
    "    current_ride:str = None\n",
    "    bullet_list=[]\n",
    "    for l in lines:\n",
    "        if l.strip():\n",
    "            if re_spaces.search(l): # Add bullets\n",
    "                bullet_list.append(l.strip())\n",
    "            else: # Value\n",
    "                if current_ride:\n",
    "                    bullets[current_ride][\"description\"] = merge_bullets(bullet_list)\n",
    "                    bullet_list = []\n",
    "                    \n",
    "                data = l.split('|')\n",
    "                current_ride = slugify(data[0].strip(), separator='_')\n",
    "                bullets[current_ride] = {\n",
    "                    \"name\": data[0].strip()\n",
    "                }\n",
    "                if parse_data:\n",
    "                    location = [float(i) for i in data[1].split(',')]\n",
    "                    bullets[current_ride][\"location\"] = location\n",
    "    \n",
    "    if current_ride:\n",
    "        bullets[current_ride][\"description\"] = merge_bullets(bullet_list)\n",
    "        bullet_list = []\n",
    "        \n",
    "    return bullets"
   ]
  },
  {
   "cell_type": "markdown",
   "metadata": {},
   "source": [
    "## Rides:"
   ]
  },
  {
   "cell_type": "code",
   "execution_count": null,
   "metadata": {},
   "outputs": [],
   "source": [
    "rides_descs = read_bulletpoints(\"_rides.txt\", False)\n",
    "# \"expensive\" search, let's waste cpu cycles, yey!\n",
    "\n",
    "rides = None\n",
    "with open(\"_rides.json\", \"r\") as r:\n",
    "    rides = json.load(r)\n",
    "    \n",
    "for r in rides:\n",
    "    id_ = slugify(rides[r][\"name\"], separator='_')\n",
    "    if id_ in rides_descs:\n",
    "        rides[id_]['description'] = rides_descs[id_][\"description\"]\n",
    "        \n",
    "with open(\"_rides.json\", \"w\", encoding='utf8') as w:\n",
    "    json.dump(rides, w)"
   ]
  },
  {
   "cell_type": "markdown",
   "metadata": {},
   "source": [
    "## Interesting people"
   ]
  },
  {
   "cell_type": "code",
   "execution_count": null,
   "metadata": {},
   "outputs": [],
   "source": [
    "interesting = read_bulletpoints(\"_interesting.txt\")"
   ]
  },
  {
   "cell_type": "markdown",
   "metadata": {},
   "source": [
    "## Merge ifo"
   ]
  },
  {
   "cell_type": "code",
   "execution_count": null,
   "metadata": {},
   "outputs": [],
   "source": [
    "debug = True\n",
    "\n",
    "trips_json:dict = None\n",
    "with open(\"../trip.json\", \"r\") as r:\n",
    "    trips_json = json.load(r)\n",
    "\n",
    "trips_json[\"routes\"] = {\n",
    "    \"type\": \"routes\",\n",
    "    \"icon\": \"map\",\n",
    "    \"name\": \"Moving around\",\n",
    "    \"routes\": rides\n",
    "}\n",
    "\n",
    "trips_json[\"people\"] = {\n",
    "    \"type\": \"pins\",\n",
    "    \"icon\": \"users\",\n",
    "    \"name\": \"Interesting people\",\n",
    "    \"pins\": interesting\n",
    "}\n",
    "with open(\"../trip.json\", \"w\") as w:\n",
    "    json.dump(trips_json, w, indent=None if not debug else 4)"
   ]
  },
  {
   "cell_type": "code",
   "execution_count": null,
   "metadata": {},
   "outputs": [],
   "source": []
  }
 ],
 "metadata": {
  "kernelspec": {
   "display_name": "Python 3",
   "language": "python",
   "name": "python3"
  },
  "language_info": {
   "codemirror_mode": {
    "name": "ipython",
    "version": 3
   },
   "file_extension": ".py",
   "mimetype": "text/x-python",
   "name": "python",
   "nbconvert_exporter": "python",
   "pygments_lexer": "ipython3",
   "version": "3.6.5"
  }
 },
 "nbformat": 4,
 "nbformat_minor": 2
}
