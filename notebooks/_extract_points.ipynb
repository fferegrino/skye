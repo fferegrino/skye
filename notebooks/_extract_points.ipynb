{
 "cells": [
  {
   "cell_type": "code",
   "execution_count": null,
   "metadata": {},
   "outputs": [],
   "source": [
    "import requests\n",
    "import json\n",
    "from _polyline_decoder import decode_polyline\n",
    "from _polyline_decoder import convert_to_shapefile\n",
    "\n",
    "endpoint = \"https://maps.googleapis.com/maps/api/directions/json\"\n",
    "key = \"\""
   ]
  },
  {
   "cell_type": "markdown",
   "metadata": {},
   "source": [
    " - driving\n",
    " - walking"
   ]
  },
  {
   "cell_type": "code",
   "execution_count": null,
   "metadata": {},
   "outputs": [],
   "source": [
    "def make_request(origin, destination, mode):\n",
    "    params = {\n",
    "        'origin': \"%f,%f\" % origin,\n",
    "        'destination': \"%f,%f\" % destination,\n",
    "        'mode':mode,\n",
    "        'key': key\n",
    "    }\n",
    "    return requests.get(endpoint, params=params)"
   ]
  },
  {
   "cell_type": "code",
   "execution_count": null,
   "metadata": {},
   "outputs": [],
   "source": [
    "req = make_request(origin=(57.451321,-6.263506),\n",
    "                   destination=(57.413044,-6.194153),\n",
    "                   mode='walking')\n",
    "result = json.loads(req.text)"
   ]
  },
  {
   "cell_type": "code",
   "execution_count": null,
   "metadata": {},
   "outputs": [],
   "source": [
    "points_ = decode_polyline(result[\"routes\"][0][\"overview_polyline\"][\"points\"])\n",
    "points = [[lat, long] for lat, long in points_]"
   ]
  },
  {
   "cell_type": "code",
   "execution_count": null,
   "metadata": {},
   "outputs": [],
   "source": [
    "print(points)"
   ]
  },
  {
   "cell_type": "code",
   "execution_count": null,
   "metadata": {},
   "outputs": [],
   "source": []
  }
 ],
 "metadata": {
  "kernelspec": {
   "display_name": "Python 3",
   "language": "python",
   "name": "python3"
  },
  "language_info": {
   "codemirror_mode": {
    "name": "ipython",
    "version": 3
   },
   "file_extension": ".py",
   "mimetype": "text/x-python",
   "name": "python",
   "nbconvert_exporter": "python",
   "pygments_lexer": "ipython3",
   "version": "3.6.4"
  }
 },
 "nbformat": 4,
 "nbformat_minor": 2
}
